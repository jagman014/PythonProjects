{
 "cells": [
  {
   "cell_type": "code",
   "execution_count": 1,
   "source": [
    "import pandas as pd"
   ],
   "outputs": [],
   "metadata": {}
  },
  {
   "cell_type": "code",
   "execution_count": 2,
   "source": [
    "df = pd.read_csv('taxi.csv.xz')"
   ],
   "outputs": [],
   "metadata": {}
  },
  {
   "cell_type": "code",
   "execution_count": 3,
   "source": [
    "df.dtypes"
   ],
   "outputs": [
    {
     "output_type": "execute_result",
     "data": {
      "text/plain": [
       "VendorID                   int64\n",
       "tpep_pickup_datetime      object\n",
       "tpep_dropoff_datetime     object\n",
       "passenger_count            int64\n",
       "trip_distance            float64\n",
       "RatecodeID                 int64\n",
       "store_and_fwd_flag        object\n",
       "PULocationID               int64\n",
       "DOLocationID               int64\n",
       "payment_type               int64\n",
       "fare_amount              float64\n",
       "extra                    float64\n",
       "mta_tax                  float64\n",
       "tip_amount               float64\n",
       "tolls_amount             float64\n",
       "improvement_surcharge    float64\n",
       "total_amount             float64\n",
       "dtype: object"
      ]
     },
     "metadata": {},
     "execution_count": 3
    }
   ],
   "metadata": {}
  },
  {
   "cell_type": "code",
   "execution_count": 4,
   "source": [
    "df.memory_usage()  # objects in python are just pointers"
   ],
   "outputs": [
    {
     "output_type": "execute_result",
     "data": {
      "text/plain": [
       "Index                        128\n",
       "VendorID                 3999992\n",
       "tpep_pickup_datetime     3999992\n",
       "tpep_dropoff_datetime    3999992\n",
       "passenger_count          3999992\n",
       "trip_distance            3999992\n",
       "RatecodeID               3999992\n",
       "store_and_fwd_flag       3999992\n",
       "PULocationID             3999992\n",
       "DOLocationID             3999992\n",
       "payment_type             3999992\n",
       "fare_amount              3999992\n",
       "extra                    3999992\n",
       "mta_tax                  3999992\n",
       "tip_amount               3999992\n",
       "tolls_amount             3999992\n",
       "improvement_surcharge    3999992\n",
       "total_amount             3999992\n",
       "dtype: int64"
      ]
     },
     "metadata": {},
     "execution_count": 4
    }
   ],
   "metadata": {}
  },
  {
   "cell_type": "code",
   "execution_count": 5,
   "source": [
    "df.memory_usage(deep=True)"
   ],
   "outputs": [
    {
     "output_type": "execute_result",
     "data": {
      "text/plain": [
       "Index                         128\n",
       "VendorID                  3999992\n",
       "tpep_pickup_datetime     37999924\n",
       "tpep_dropoff_datetime    37999924\n",
       "passenger_count           3999992\n",
       "trip_distance             3999992\n",
       "RatecodeID                3999992\n",
       "store_and_fwd_flag       28999942\n",
       "PULocationID              3999992\n",
       "DOLocationID              3999992\n",
       "payment_type              3999992\n",
       "fare_amount               3999992\n",
       "extra                     3999992\n",
       "mta_tax                   3999992\n",
       "tip_amount                3999992\n",
       "tolls_amount              3999992\n",
       "improvement_surcharge     3999992\n",
       "total_amount              3999992\n",
       "dtype: int64"
      ]
     },
     "metadata": {},
     "execution_count": 5
    }
   ],
   "metadata": {}
  },
  {
   "cell_type": "code",
   "execution_count": 6,
   "source": [
    "mb = 2 ** 20  # Mib\n",
    "df.memory_usage(deep=True) / mb  # memory measured in bytes"
   ],
   "outputs": [
    {
     "output_type": "execute_result",
     "data": {
      "text/plain": [
       "Index                     0.000122\n",
       "VendorID                  3.814690\n",
       "tpep_pickup_datetime     36.239552\n",
       "tpep_dropoff_datetime    36.239552\n",
       "passenger_count           3.814690\n",
       "trip_distance             3.814690\n",
       "RatecodeID                3.814690\n",
       "store_and_fwd_flag       27.656500\n",
       "PULocationID              3.814690\n",
       "DOLocationID              3.814690\n",
       "payment_type              3.814690\n",
       "fare_amount               3.814690\n",
       "extra                     3.814690\n",
       "mta_tax                   3.814690\n",
       "tip_amount                3.814690\n",
       "tolls_amount              3.814690\n",
       "improvement_surcharge     3.814690\n",
       "total_amount              3.814690\n",
       "dtype: float64"
      ]
     },
     "metadata": {},
     "execution_count": 6
    }
   ],
   "metadata": {}
  },
  {
   "cell_type": "code",
   "execution_count": 7,
   "source": [
    "df.memory_usage(deep=True).sum() / mb"
   ],
   "outputs": [
    {
     "output_type": "execute_result",
     "data": {
      "text/plain": [
       "153.54137992858887"
      ]
     },
     "metadata": {},
     "execution_count": 7
    }
   ],
   "metadata": {}
  },
  {
   "cell_type": "code",
   "execution_count": 8,
   "source": [
    "df['total_amount'].max()"
   ],
   "outputs": [
    {
     "output_type": "execute_result",
     "data": {
      "text/plain": [
       "456.35"
      ]
     },
     "metadata": {},
     "execution_count": 8
    }
   ],
   "metadata": {}
  },
  {
   "cell_type": "code",
   "execution_count": 9,
   "source": [
    "df['total_amount'].memory_usage(deep=True) / mb"
   ],
   "outputs": [
    {
     "output_type": "execute_result",
     "data": {
      "text/plain": [
       "3.8148117065429688"
      ]
     },
     "metadata": {},
     "execution_count": 9
    }
   ],
   "metadata": {}
  },
  {
   "cell_type": "code",
   "execution_count": 10,
   "source": [
    "ta32 = df['total_amount'].astype('float32')"
   ],
   "outputs": [],
   "metadata": {}
  },
  {
   "cell_type": "code",
   "execution_count": 11,
   "source": [
    "ta32.memory_usage(deep=True) / mb"
   ],
   "outputs": [
    {
     "output_type": "execute_result",
     "data": {
      "text/plain": [
       "1.9074668884277344"
      ]
     },
     "metadata": {},
     "execution_count": 11
    }
   ],
   "metadata": {}
  },
  {
   "cell_type": "code",
   "execution_count": null,
   "source": [
    "# float32 smaller in memory"
   ],
   "outputs": [],
   "metadata": {}
  }
 ],
 "metadata": {
  "orig_nbformat": 4,
  "language_info": {
   "name": "python",
   "version": "3.9.6",
   "mimetype": "text/x-python",
   "codemirror_mode": {
    "name": "ipython",
    "version": 3
   },
   "pygments_lexer": "ipython3",
   "nbconvert_exporter": "python",
   "file_extension": ".py"
  },
  "kernelspec": {
   "name": "python3",
   "display_name": "Python 3.9.6 64-bit ('faster-pandas': conda)"
  },
  "interpreter": {
   "hash": "873862793f95b67aab2a746be32349deaa881ee86d5a9b517cbfe9cddb1ae025"
  }
 },
 "nbformat": 4,
 "nbformat_minor": 2
}