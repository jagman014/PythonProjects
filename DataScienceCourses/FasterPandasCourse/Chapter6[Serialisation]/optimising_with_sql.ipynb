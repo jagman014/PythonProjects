{
 "cells": [
  {
   "cell_type": "code",
   "execution_count": 1,
   "source": [
    "import sqlite3"
   ],
   "outputs": [],
   "metadata": {}
  },
  {
   "cell_type": "code",
   "execution_count": 2,
   "source": [
    "conn = sqlite3.connect('bikes.db')"
   ],
   "outputs": [],
   "metadata": {}
  },
  {
   "cell_type": "code",
   "execution_count": 5,
   "source": [
    "query = \"\"\"\n",
    "        SELECT name, sql\n",
    "        FROM sqlite_master\n",
    "        WHERE type = 'table'\n",
    "\"\"\""
   ],
   "outputs": [],
   "metadata": {}
  },
  {
   "cell_type": "code",
   "execution_count": 6,
   "source": [
    "for name, sql in conn.execute(query):\n",
    "    print(name)\n",
    "    print(sql)"
   ],
   "outputs": [
    {
     "output_type": "stream",
     "name": "stdout",
     "text": [
      "bike_rides\n",
      "CREATE TABLE bike_rides(\n",
      "  year INT,\n",
      "  month INT,\n",
      "  day INT,\n",
      "  trip_id INT,\n",
      "  bike_id INT,\n",
      "  duration INT\n",
      ")\n"
     ]
    }
   ],
   "metadata": {}
  },
  {
   "cell_type": "code",
   "execution_count": 7,
   "source": [
    "conn.execute(\"SELECT MAX(year), MIN(year) FROM bike_rides\").fetchall()"
   ],
   "outputs": [
    {
     "output_type": "execute_result",
     "data": {
      "text/plain": [
       "[(2017, 2016)]"
      ]
     },
     "metadata": {},
     "execution_count": 7
    }
   ],
   "metadata": {}
  },
  {
   "cell_type": "code",
   "execution_count": 9,
   "source": [
    "import pandas as pd"
   ],
   "outputs": [],
   "metadata": {}
  },
  {
   "cell_type": "code",
   "execution_count": 8,
   "source": [
    "query = \"\"\"\n",
    "        SELECT year, month, duration\n",
    "        FROM bike_rides\n",
    "        WHERE year == 2016 or year == 2017\n",
    "\"\"\""
   ],
   "outputs": [],
   "metadata": {}
  },
  {
   "cell_type": "code",
   "execution_count": 10,
   "source": [
    "df = pd.read_sql(query, conn)"
   ],
   "outputs": [],
   "metadata": {}
  },
  {
   "cell_type": "code",
   "execution_count": 11,
   "source": [
    "df.groupby(['year', 'month'])['duration'].median()"
   ],
   "outputs": [
    {
     "output_type": "execute_result",
     "data": {
      "text/plain": [
       "year  month\n",
       "2016  1        14.0\n",
       "      2        15.0\n",
       "      3        14.0\n",
       "      5        15.0\n",
       "      6        14.0\n",
       "      7        15.0\n",
       "      8        13.0\n",
       "      9        15.0\n",
       "      10       16.0\n",
       "      11       14.0\n",
       "2017  1        14.0\n",
       "      2        16.0\n",
       "      3        14.0\n",
       "      4        18.0\n",
       "      5        18.0\n",
       "      6        16.0\n",
       "      7        16.0\n",
       "      8        13.0\n",
       "      9        17.0\n",
       "      10       16.0\n",
       "      11       18.0\n",
       "      12       16.0\n",
       "Name: duration, dtype: float64"
      ]
     },
     "metadata": {},
     "execution_count": 11
    }
   ],
   "metadata": {}
  },
  {
   "cell_type": "code",
   "execution_count": null,
   "source": [],
   "outputs": [],
   "metadata": {}
  }
 ],
 "metadata": {
  "orig_nbformat": 4,
  "language_info": {
   "name": "python",
   "version": "3.9.6",
   "mimetype": "text/x-python",
   "codemirror_mode": {
    "name": "ipython",
    "version": 3
   },
   "pygments_lexer": "ipython3",
   "nbconvert_exporter": "python",
   "file_extension": ".py"
  },
  "kernelspec": {
   "name": "python3",
   "display_name": "Python 3.9.6 64-bit ('faster-pandas': conda)"
  },
  "interpreter": {
   "hash": "873862793f95b67aab2a746be32349deaa881ee86d5a9b517cbfe9cddb1ae025"
  }
 },
 "nbformat": 4,
 "nbformat_minor": 2
}