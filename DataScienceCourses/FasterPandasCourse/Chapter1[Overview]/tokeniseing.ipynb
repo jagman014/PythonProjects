{
 "cells": [
  {
   "cell_type": "code",
   "execution_count": 1,
   "source": [
    "%run tokenise_text.py"
   ],
   "outputs": [],
   "metadata": {}
  },
  {
   "cell_type": "code",
   "execution_count": 2,
   "source": [
    "s = \"We will encourage you to develop the \\\n",
    "    three great virtues of a programmer: laziness, impatience, and hubris\""
   ],
   "outputs": [],
   "metadata": {}
  },
  {
   "cell_type": "code",
   "execution_count": 3,
   "source": [
    "tokenise(s)"
   ],
   "outputs": [
    {
     "output_type": "execute_result",
     "data": {
      "text/plain": [
       "['encourage',\n",
       " 'develop',\n",
       " 'three',\n",
       " 'great',\n",
       " 'virtue',\n",
       " 'programmer',\n",
       " 'lazines',\n",
       " 'impatience',\n",
       " 'hubri']"
      ]
     },
     "metadata": {},
     "execution_count": 3
    }
   ],
   "metadata": {}
  },
  {
   "cell_type": "code",
   "execution_count": 10,
   "source": [
    "# profile run \n",
    "%prun tokenise(s)"
   ],
   "outputs": [
    {
     "output_type": "stream",
     "name": "stdout",
     "text": [
      " "
     ]
    },
    {
     "output_type": "stream",
     "name": "stdout",
     "text": [
      "         119 function calls in 0.000 seconds\n",
      "\n",
      "   Ordered by: internal time\n",
      "\n",
      "   ncalls  tottime  percall  cumtime  percall filename:lineno(function)\n",
      "        1    0.000    0.000    0.000    0.000 {built-in method builtins.exec}\n",
      "        1    0.000    0.000    0.000    0.000 tokenise_text.py:14(tokenise)\n",
      "       17    0.000    0.000    0.000    0.000 {method 'sub' of 're.Pattern' objects}\n",
      "       18    0.000    0.000    0.000    0.000 re.py:289(_compile)\n",
      "       17    0.000    0.000    0.000    0.000 re.py:203(sub)\n",
      "       17    0.000    0.000    0.000    0.000 tokenise_text.py:4(stem)\n",
      "        1    0.000    0.000    0.000    0.000 {method 'findall' of 're.Pattern' objects}\n",
      "       18    0.000    0.000    0.000    0.000 {built-in method builtins.isinstance}\n",
      "        1    0.000    0.000    0.000    0.000 re.py:233(findall)\n",
      "       17    0.000    0.000    0.000    0.000 {method 'lower' of 'str' objects}\n",
      "        1    0.000    0.000    0.000    0.000 <string>:1(<module>)\n",
      "        9    0.000    0.000    0.000    0.000 {method 'append' of 'list' objects}\n",
      "        1    0.000    0.000    0.000    0.000 {method 'disable' of '_lsprof.Profiler' objects}"
     ]
    }
   ],
   "metadata": {}
  },
  {
   "cell_type": "code",
   "execution_count": 11,
   "source": [
    "%%prun  # cell magic instead of in-line magic\n",
    "for _ in range(10_000):\n",
    "    tokenise(s)"
   ],
   "outputs": [
    {
     "output_type": "stream",
     "name": "stdout",
     "text": [
      " "
     ]
    },
    {
     "output_type": "stream",
     "name": "stdout",
     "text": [
      "         1160003 function calls in 2.413 seconds\n",
      "\n",
      "   Ordered by: internal time\n",
      "\n",
      "   ncalls  tottime  percall  cumtime  percall filename:lineno(function)\n",
      "    10000    0.485    0.000    2.383    0.000 tokenise_text.py:14(tokenise)\n",
      "   170000    0.459    0.000    0.459    0.000 {method 'sub' of 're.Pattern' objects}\n",
      "   180000    0.361    0.000    0.547    0.000 re.py:289(_compile)\n",
      "   170000    0.314    0.000    1.284    0.000 re.py:203(sub)\n",
      "   170000    0.294    0.000    1.578    0.000 tokenise_text.py:4(stem)\n",
      "   180000    0.186    0.000    0.186    0.000 {built-in method builtins.isinstance}\n",
      "    10000    0.153    0.000    0.153    0.000 {method 'findall' of 're.Pattern' objects}\n",
      "   170000    0.072    0.000    0.072    0.000 {method 'lower' of 'str' objects}\n",
      "    90000    0.038    0.000    0.038    0.000 {method 'append' of 'list' objects}\n",
      "        1    0.030    0.030    2.413    2.413 <string>:2(<module>)\n",
      "    10000    0.022    0.000    0.210    0.000 re.py:233(findall)\n",
      "        1    0.000    0.000    2.413    2.413 {built-in method builtins.exec}\n",
      "        1    0.000    0.000    0.000    0.000 {method 'disable' of '_lsprof.Profiler' objects}"
     ]
    }
   ],
   "metadata": {}
  },
  {
   "cell_type": "code",
   "execution_count": null,
   "source": [],
   "outputs": [],
   "metadata": {}
  }
 ],
 "metadata": {
  "orig_nbformat": 4,
  "language_info": {
   "name": "python",
   "version": "3.9.6",
   "mimetype": "text/x-python",
   "codemirror_mode": {
    "name": "ipython",
    "version": 3
   },
   "pygments_lexer": "ipython3",
   "nbconvert_exporter": "python",
   "file_extension": ".py"
  },
  "kernelspec": {
   "name": "python3",
   "display_name": "Python 3.9.6 64-bit ('faster-pandas': conda)"
  },
  "interpreter": {
   "hash": "873862793f95b67aab2a746be32349deaa881ee86d5a9b517cbfe9cddb1ae025"
  }
 },
 "nbformat": 4,
 "nbformat_minor": 2
}