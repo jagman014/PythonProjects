{
 "cells": [
  {
   "cell_type": "markdown",
   "source": [
    "# Decrete Transform"
   ],
   "metadata": {}
  },
  {
   "cell_type": "markdown",
   "source": [
    "$$\r\n",
    "F_k = \\sum_{n=0}^{N-1} {x_n \\cdot e^{ -j \\omega n}}, \\omega = \\frac{2 \\pi k}{N}\r\n",
    "$$"
   ],
   "metadata": {}
  },
  {
   "cell_type": "code",
   "execution_count": null,
   "source": [
    "from cmath import pi, exp\r\n",
    "\r\n",
    "def discrete_ft(x, k):\r\n",
    "    omega = 2 * pi * k / (N := len(x))\r\n",
    "\r\n",
    "    return sum(x[n] * exp(-1j * omega * n) for n in range(N))"
   ],
   "outputs": [],
   "metadata": {}
  },
  {
   "cell_type": "code",
   "execution_count": null,
   "source": [
    "%matplotlib inline\r\n",
    "import matplotlib.pyplot as plt\r\n",
    "\r\n",
    "# O(n^2) complexity, better to just use FFT from scipy\r\n",
    "def plot_frequency_spectrum(\r\n",
    "                            samples, \r\n",
    "                            samples_per_second, \r\n",
    "                            min_frequency=0, \r\n",
    "                            max_frequency=None\r\n",
    "                            ):\r\n",
    "    num_bins = len(samples) // 2\r\n",
    "    nyquist_frequency = samples_per_second // 2\r\n",
    "\r\n",
    "    magnitudes = []\r\n",
    "    for k in range(num_bins):\r\n",
    "        magnitudes.append(abs(discrete_ft(samples, k)))\r\n",
    "    \r\n",
    "    # Normalise magnitudes\r\n",
    "    magnitudes = [m / max(magnitudes) for m in magnitudes]\r\n",
    "\r\n",
    "    # calculate frequency bins\r\n",
    "    bin_resolution = samples_per_second / len(samples)\r\n",
    "    frequency_bins = [k * bin_resolution for k in range(num_bins)]\r\n",
    "\r\n",
    "    plt.xlim(min_frequency, max_frequency or nyquist_frequency)\r\n",
    "    plt.bar(frequency_bins, magnitudes, width=bin_resolution)"
   ],
   "outputs": [],
   "metadata": {}
  },
  {
   "cell_type": "markdown",
   "source": [
    "## Sine Wave"
   ],
   "metadata": {}
  },
  {
   "cell_type": "code",
   "execution_count": null,
   "source": [
    "import numpy as np\r\n",
    "\r\n",
    "NUM_SAMPLES_PER_SECOND = 44100\r\n",
    "\r\n",
    "def sine_wave(\r\n",
    "            frequency, \r\n",
    "            phase=0, \r\n",
    "            amplitude=1, \r\n",
    "            seconds=5, \r\n",
    "            samples_per_second=NUM_SAMPLES_PER_SECOND\r\n",
    "            ):\r\n",
    "    t = np.linspace(0, seconds, seconds * samples_per_second)\r\n",
    "\r\n",
    "    return amplitude * np.sin(2 * np.pi * frequency * t + phase)"
   ],
   "outputs": [],
   "metadata": {}
  },
  {
   "cell_type": "code",
   "execution_count": null,
   "source": [
    "tone = sine_wave(220) + sine_wave(440) + sine_wave(440.5)"
   ],
   "outputs": [],
   "metadata": {}
  },
  {
   "cell_type": "code",
   "execution_count": null,
   "source": [
    "plt.xlim(0, NUM_SAMPLES_PER_SECOND * 5)\r\n",
    "plt.plot(tone)"
   ],
   "outputs": [],
   "metadata": {}
  },
  {
   "cell_type": "code",
   "execution_count": null,
   "source": [
    "plot_frequency_spectrum(\r\n",
    "                        tone[:1024], \r\n",
    "                        NUM_SAMPLES_PER_SECOND,\r\n",
    "                        max_frequency=2000\r\n",
    "                        )"
   ],
   "outputs": [],
   "metadata": {}
  },
  {
   "cell_type": "code",
   "execution_count": null,
   "source": [],
   "outputs": [],
   "metadata": {}
  }
 ],
 "metadata": {
  "orig_nbformat": 4,
  "language_info": {
   "name": "python",
   "version": "3.8.5",
   "mimetype": "text/x-python",
   "codemirror_mode": {
    "name": "ipython",
    "version": 3
   },
   "pygments_lexer": "ipython3",
   "nbconvert_exporter": "python",
   "file_extension": ".py"
  },
  "kernelspec": {
   "name": "python3",
   "display_name": "Python 3.8.5 64-bit ('ds-guides': conda)"
  },
  "interpreter": {
   "hash": "c339c1db8212e86c9c055d20a26c7be851f74b7b074ec49a2325ad7255d012f8"
  }
 },
 "nbformat": 4,
 "nbformat_minor": 2
}