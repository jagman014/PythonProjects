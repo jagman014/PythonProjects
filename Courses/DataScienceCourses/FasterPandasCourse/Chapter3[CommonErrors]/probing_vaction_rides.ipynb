{
 "cells": [
  {
   "cell_type": "code",
   "execution_count": 1,
   "source": [
    "from vacation_rides import *"
   ],
   "outputs": [],
   "metadata": {}
  },
  {
   "cell_type": "code",
   "execution_count": 2,
   "source": [
    "df = load_df('austin-bikes.csv.xz')"
   ],
   "outputs": [],
   "metadata": {}
  },
  {
   "cell_type": "code",
   "execution_count": 3,
   "source": [
    "len(vacation_rides(df))"
   ],
   "outputs": [
    {
     "output_type": "execute_result",
     "data": {
      "text/plain": [
       "421"
      ]
     },
     "metadata": {},
     "execution_count": 3
    }
   ],
   "metadata": {}
  },
  {
   "cell_type": "code",
   "execution_count": 4,
   "source": [
    "%timeit len(vacation_rides(df))"
   ],
   "outputs": [
    {
     "output_type": "stream",
     "name": "stdout",
     "text": [
      "16 s ± 1.54 s per loop (mean ± std. dev. of 7 runs, 1 loop each)\n"
     ]
    }
   ],
   "metadata": {}
  },
  {
   "cell_type": "code",
   "execution_count": 5,
   "source": [
    "# optimising code"
   ],
   "outputs": [],
   "metadata": {}
  },
  {
   "cell_type": "code",
   "execution_count": 26,
   "source": [
    "df = pd.read_csv('austin-bikes.csv.xz', \n",
    "                parse_dates={'time': ['Checkout Date', 'Checkout Time']})"
   ],
   "outputs": [],
   "metadata": {}
  },
  {
   "cell_type": "code",
   "execution_count": 27,
   "source": [
    "from calendar import SATURDAY, SUNDAY\n",
    "\n",
    "mask_2016 = df['time'].dt.year == 2016\n",
    "holiday_mask = (\n",
    "    (df['time'].dt.floor('d').isin(holidays_2016)) |\n",
    "    (df['time'].dt.weekday.isin([SATURDAY, SUNDAY]))\n",
    ")\n",
    "afternoon_mask = (df['time'].dt.hour >= 12) & (df['time'].dt.hour < 18)"
   ],
   "outputs": [],
   "metadata": {}
  },
  {
   "cell_type": "code",
   "execution_count": 28,
   "source": [
    "len(df[mask_2016 & holiday_mask & afternoon_mask])"
   ],
   "outputs": [
    {
     "output_type": "execute_result",
     "data": {
      "text/plain": [
       "421"
      ]
     },
     "metadata": {},
     "execution_count": 28
    }
   ],
   "metadata": {}
  },
  {
   "cell_type": "code",
   "execution_count": 29,
   "source": [
    "%timeit len(df[mask_2016 & holiday_mask & afternoon_mask])"
   ],
   "outputs": [
    {
     "output_type": "stream",
     "name": "stdout",
     "text": [
      "2.59 ms ± 92.7 µs per loop (mean ± std. dev. of 7 runs, 100 loops each)\n"
     ]
    }
   ],
   "metadata": {}
  },
  {
   "cell_type": "code",
   "execution_count": 30,
   "source": [
    "16000 / 2.59  # speed up by 6177x"
   ],
   "outputs": [
    {
     "output_type": "execute_result",
     "data": {
      "text/plain": [
       "6177.606177606178"
      ]
     },
     "metadata": {},
     "execution_count": 30
    }
   ],
   "metadata": {}
  },
  {
   "cell_type": "code",
   "execution_count": null,
   "source": [],
   "outputs": [],
   "metadata": {}
  }
 ],
 "metadata": {
  "orig_nbformat": 4,
  "language_info": {
   "name": "python",
   "version": "3.9.6",
   "mimetype": "text/x-python",
   "codemirror_mode": {
    "name": "ipython",
    "version": 3
   },
   "pygments_lexer": "ipython3",
   "nbconvert_exporter": "python",
   "file_extension": ".py"
  },
  "kernelspec": {
   "name": "python3",
   "display_name": "Python 3.9.6 64-bit ('faster-pandas': conda)"
  },
  "interpreter": {
   "hash": "873862793f95b67aab2a746be32349deaa881ee86d5a9b517cbfe9cddb1ae025"
  }
 },
 "nbformat": 4,
 "nbformat_minor": 2
}