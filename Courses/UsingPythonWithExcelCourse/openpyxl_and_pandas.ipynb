{
 "cells": [
  {
   "cell_type": "markdown",
   "metadata": {},
   "source": [
    "# Multiple Sheets"
   ]
  },
  {
   "cell_type": "code",
   "execution_count": 75,
   "metadata": {},
   "outputs": [],
   "source": [
    "import pandas as pd"
   ]
  },
  {
   "cell_type": "code",
   "execution_count": 76,
   "metadata": {},
   "outputs": [],
   "source": [
    "df_1 = pd.read_excel('data/shifts.xlsx', sheet_name='Sheet1')\n",
    "df_2 = pd.read_excel('data/shifts.xlsx', sheet_name='Sheet2')\n",
    "df_3 = pd.read_excel('data/shift_3.xlsx')"
   ]
  },
  {
   "cell_type": "code",
   "execution_count": 77,
   "metadata": {},
   "outputs": [
    {
     "data": {
      "text/html": [
       "<div>\n",
       "<style scoped>\n",
       "    .dataframe tbody tr th:only-of-type {\n",
       "        vertical-align: middle;\n",
       "    }\n",
       "\n",
       "    .dataframe tbody tr th {\n",
       "        vertical-align: top;\n",
       "    }\n",
       "\n",
       "    .dataframe thead th {\n",
       "        text-align: right;\n",
       "    }\n",
       "</style>\n",
       "<table border=\"1\" class=\"dataframe\">\n",
       "  <thead>\n",
       "    <tr style=\"text-align: right;\">\n",
       "      <th></th>\n",
       "      <th>Shift</th>\n",
       "      <th>Region</th>\n",
       "      <th>Sale Rep</th>\n",
       "      <th>Product</th>\n",
       "      <th>Cost Per</th>\n",
       "      <th>Units Sold</th>\n",
       "    </tr>\n",
       "  </thead>\n",
       "  <tbody>\n",
       "    <tr>\n",
       "      <th>0</th>\n",
       "      <td>1</td>\n",
       "      <td>South</td>\n",
       "      <td>Deborah</td>\n",
       "      <td>Binder</td>\n",
       "      <td>30</td>\n",
       "      <td>55</td>\n",
       "    </tr>\n",
       "    <tr>\n",
       "      <th>1</th>\n",
       "      <td>1</td>\n",
       "      <td>East</td>\n",
       "      <td>Alice</td>\n",
       "      <td>Stapler</td>\n",
       "      <td>25</td>\n",
       "      <td>113</td>\n",
       "    </tr>\n",
       "    <tr>\n",
       "      <th>2</th>\n",
       "      <td>1</td>\n",
       "      <td>North</td>\n",
       "      <td>Ellis</td>\n",
       "      <td>Folder</td>\n",
       "      <td>17</td>\n",
       "      <td>97</td>\n",
       "    </tr>\n",
       "    <tr>\n",
       "      <th>3</th>\n",
       "      <td>1</td>\n",
       "      <td>North</td>\n",
       "      <td>Ellis</td>\n",
       "      <td>Pencil</td>\n",
       "      <td>5</td>\n",
       "      <td>83</td>\n",
       "    </tr>\n",
       "    <tr>\n",
       "      <th>4</th>\n",
       "      <td>1</td>\n",
       "      <td>South</td>\n",
       "      <td>Alice</td>\n",
       "      <td>Binder</td>\n",
       "      <td>30</td>\n",
       "      <td>55</td>\n",
       "    </tr>\n",
       "    <tr>\n",
       "      <th>...</th>\n",
       "      <td>...</td>\n",
       "      <td>...</td>\n",
       "      <td>...</td>\n",
       "      <td>...</td>\n",
       "      <td>...</td>\n",
       "      <td>...</td>\n",
       "    </tr>\n",
       "    <tr>\n",
       "      <th>94</th>\n",
       "      <td>3</td>\n",
       "      <td>East</td>\n",
       "      <td>Ellis</td>\n",
       "      <td>Binder</td>\n",
       "      <td>30</td>\n",
       "      <td>177</td>\n",
       "    </tr>\n",
       "    <tr>\n",
       "      <th>95</th>\n",
       "      <td>3</td>\n",
       "      <td>North</td>\n",
       "      <td>Bob</td>\n",
       "      <td>Pencil</td>\n",
       "      <td>5</td>\n",
       "      <td>54</td>\n",
       "    </tr>\n",
       "    <tr>\n",
       "      <th>96</th>\n",
       "      <td>3</td>\n",
       "      <td>South</td>\n",
       "      <td>Charlie</td>\n",
       "      <td>Pen</td>\n",
       "      <td>10</td>\n",
       "      <td>196</td>\n",
       "    </tr>\n",
       "    <tr>\n",
       "      <th>97</th>\n",
       "      <td>3</td>\n",
       "      <td>North</td>\n",
       "      <td>Charlie</td>\n",
       "      <td>Paper</td>\n",
       "      <td>15</td>\n",
       "      <td>80</td>\n",
       "    </tr>\n",
       "    <tr>\n",
       "      <th>98</th>\n",
       "      <td>3</td>\n",
       "      <td>South</td>\n",
       "      <td>Bob</td>\n",
       "      <td>Paper</td>\n",
       "      <td>15</td>\n",
       "      <td>172</td>\n",
       "    </tr>\n",
       "  </tbody>\n",
       "</table>\n",
       "<p>297 rows × 6 columns</p>\n",
       "</div>"
      ],
      "text/plain": [
       "    Shift Region Sale Rep  Product  Cost Per  Units Sold\n",
       "0       1  South  Deborah   Binder        30          55\n",
       "1       1   East    Alice  Stapler        25         113\n",
       "2       1  North    Ellis   Folder        17          97\n",
       "3       1  North    Ellis   Pencil         5          83\n",
       "4       1  South    Alice   Binder        30          55\n",
       "..    ...    ...      ...      ...       ...         ...\n",
       "94      3   East    Ellis   Binder        30         177\n",
       "95      3  North      Bob   Pencil         5          54\n",
       "96      3  South  Charlie      Pen        10         196\n",
       "97      3  North  Charlie    Paper        15          80\n",
       "98      3  South      Bob    Paper        15         172\n",
       "\n",
       "[297 rows x 6 columns]"
      ]
     },
     "execution_count": 77,
     "metadata": {},
     "output_type": "execute_result"
    }
   ],
   "source": [
    "df_all = pd.concat([df_1, df_2, df_3], sort=False)\n",
    "df_all"
   ]
  },
  {
   "cell_type": "code",
   "execution_count": 78,
   "metadata": {},
   "outputs": [
    {
     "data": {
      "text/html": [
       "<div>\n",
       "<style scoped>\n",
       "    .dataframe tbody tr th:only-of-type {\n",
       "        vertical-align: middle;\n",
       "    }\n",
       "\n",
       "    .dataframe tbody tr th {\n",
       "        vertical-align: top;\n",
       "    }\n",
       "\n",
       "    .dataframe thead th {\n",
       "        text-align: right;\n",
       "    }\n",
       "</style>\n",
       "<table border=\"1\" class=\"dataframe\">\n",
       "  <thead>\n",
       "    <tr style=\"text-align: right;\">\n",
       "      <th></th>\n",
       "      <th>Shift</th>\n",
       "      <th>Region</th>\n",
       "      <th>Sale Rep</th>\n",
       "      <th>Product</th>\n",
       "      <th>Cost Per</th>\n",
       "      <th>Units Sold</th>\n",
       "    </tr>\n",
       "  </thead>\n",
       "  <tbody>\n",
       "    <tr>\n",
       "      <th>50</th>\n",
       "      <td>1</td>\n",
       "      <td>North</td>\n",
       "      <td>Deborah</td>\n",
       "      <td>Pencil</td>\n",
       "      <td>5</td>\n",
       "      <td>87</td>\n",
       "    </tr>\n",
       "    <tr>\n",
       "      <th>50</th>\n",
       "      <td>2</td>\n",
       "      <td>East</td>\n",
       "      <td>Deborah</td>\n",
       "      <td>Binder</td>\n",
       "      <td>30</td>\n",
       "      <td>160</td>\n",
       "    </tr>\n",
       "    <tr>\n",
       "      <th>50</th>\n",
       "      <td>3</td>\n",
       "      <td>North</td>\n",
       "      <td>Bob</td>\n",
       "      <td>Binder</td>\n",
       "      <td>30</td>\n",
       "      <td>79</td>\n",
       "    </tr>\n",
       "  </tbody>\n",
       "</table>\n",
       "</div>"
      ],
      "text/plain": [
       "    Shift Region Sale Rep Product  Cost Per  Units Sold\n",
       "50      1  North  Deborah  Pencil         5          87\n",
       "50      2   East  Deborah  Binder        30         160\n",
       "50      3  North      Bob  Binder        30          79"
      ]
     },
     "execution_count": 78,
     "metadata": {},
     "output_type": "execute_result"
    }
   ],
   "source": [
    "df_all.loc[50]"
   ]
  },
  {
   "cell_type": "code",
   "execution_count": 79,
   "metadata": {},
   "outputs": [
    {
     "data": {
      "text/plain": [
       "Shift\n",
       "1    121.434343\n",
       "2    126.060606\n",
       "3    124.858586\n",
       "Name: Units Sold, dtype: float64"
      ]
     },
     "execution_count": 79,
     "metadata": {},
     "output_type": "execute_result"
    }
   ],
   "source": [
    "df_all.groupby(['Shift']).mean()['Units Sold']"
   ]
  },
  {
   "cell_type": "code",
   "execution_count": 80,
   "metadata": {},
   "outputs": [],
   "source": [
    "df_all.to_excel('output/all_shifts.xlsx', index=None)"
   ]
  },
  {
   "cell_type": "code",
   "execution_count": 81,
   "metadata": {},
   "outputs": [],
   "source": [
    "from openpyxl import load_workbook\n",
    "from openpyxl.styles import Font"
   ]
  },
  {
   "cell_type": "code",
   "execution_count": 82,
   "metadata": {},
   "outputs": [],
   "source": [
    "wb = load_workbook('output/all_shifts.xlsx')\n",
    "ws = wb.active"
   ]
  },
  {
   "cell_type": "code",
   "execution_count": 83,
   "metadata": {},
   "outputs": [],
   "source": [
    "total_col = ws['G1']\n",
    "total_col.font = Font(bold=True)\n",
    "total_col.value = 'Total'"
   ]
  },
  {
   "cell_type": "code",
   "execution_count": 84,
   "metadata": {},
   "outputs": [],
   "source": [
    "e_col, f_col = ['E', 'F']\n",
    "\n",
    "for row in range(2, 298):\n",
    "    result_cell = f'G{row}'\n",
    "    e_value = ws[e_col + str(row)].value\n",
    "    f_value = ws[f_col + str(row)].value\n",
    "\n",
    "    ws[result_cell] = e_value * f_value"
   ]
  },
  {
   "cell_type": "code",
   "execution_count": 85,
   "metadata": {},
   "outputs": [],
   "source": [
    "wb.save('output/totaled.xlsx')"
   ]
  },
  {
   "cell_type": "markdown",
   "metadata": {},
   "source": [
    "# Converting Data"
   ]
  },
  {
   "cell_type": "code",
   "execution_count": 86,
   "metadata": {},
   "outputs": [],
   "source": [
    "from openpyxl.utils.dataframe import dataframe_to_rows"
   ]
  },
  {
   "cell_type": "code",
   "execution_count": 87,
   "metadata": {},
   "outputs": [],
   "source": [
    "wb = load_workbook('data/regions.xlsx')\n",
    "ws = wb.active"
   ]
  },
  {
   "cell_type": "code",
   "execution_count": 88,
   "metadata": {},
   "outputs": [],
   "source": [
    "df = pd.read_excel('output/all_shifts.xlsx')\n",
    "df1 = df[['Sale Rep', 'Cost Per', 'Units Sold']]"
   ]
  },
  {
   "cell_type": "code",
   "execution_count": 89,
   "metadata": {},
   "outputs": [
    {
     "name": "stderr",
     "output_type": "stream",
     "text": [
      "C:\\Users\\jagma\\AppData\\Local\\Temp\\ipykernel_8744\\1648019548.py:1: SettingWithCopyWarning: \n",
      "A value is trying to be set on a copy of a slice from a DataFrame.\n",
      "Try using .loc[row_indexer,col_indexer] = value instead\n",
      "\n",
      "See the caveats in the documentation: https://pandas.pydata.org/pandas-docs/stable/user_guide/indexing.html#returning-a-view-versus-a-copy\n",
      "  df1['Total'] = df1['Cost Per'] * df1['Units Sold']\n"
     ]
    },
    {
     "data": {
      "text/html": [
       "<div>\n",
       "<style scoped>\n",
       "    .dataframe tbody tr th:only-of-type {\n",
       "        vertical-align: middle;\n",
       "    }\n",
       "\n",
       "    .dataframe tbody tr th {\n",
       "        vertical-align: top;\n",
       "    }\n",
       "\n",
       "    .dataframe thead th {\n",
       "        text-align: right;\n",
       "    }\n",
       "</style>\n",
       "<table border=\"1\" class=\"dataframe\">\n",
       "  <thead>\n",
       "    <tr style=\"text-align: right;\">\n",
       "      <th></th>\n",
       "      <th>Sale Rep</th>\n",
       "      <th>Cost Per</th>\n",
       "      <th>Units Sold</th>\n",
       "      <th>Total</th>\n",
       "    </tr>\n",
       "  </thead>\n",
       "  <tbody>\n",
       "    <tr>\n",
       "      <th>0</th>\n",
       "      <td>Deborah</td>\n",
       "      <td>30</td>\n",
       "      <td>55</td>\n",
       "      <td>1650</td>\n",
       "    </tr>\n",
       "    <tr>\n",
       "      <th>1</th>\n",
       "      <td>Alice</td>\n",
       "      <td>25</td>\n",
       "      <td>113</td>\n",
       "      <td>2825</td>\n",
       "    </tr>\n",
       "    <tr>\n",
       "      <th>2</th>\n",
       "      <td>Ellis</td>\n",
       "      <td>17</td>\n",
       "      <td>97</td>\n",
       "      <td>1649</td>\n",
       "    </tr>\n",
       "    <tr>\n",
       "      <th>3</th>\n",
       "      <td>Ellis</td>\n",
       "      <td>5</td>\n",
       "      <td>83</td>\n",
       "      <td>415</td>\n",
       "    </tr>\n",
       "    <tr>\n",
       "      <th>4</th>\n",
       "      <td>Alice</td>\n",
       "      <td>30</td>\n",
       "      <td>55</td>\n",
       "      <td>1650</td>\n",
       "    </tr>\n",
       "    <tr>\n",
       "      <th>...</th>\n",
       "      <td>...</td>\n",
       "      <td>...</td>\n",
       "      <td>...</td>\n",
       "      <td>...</td>\n",
       "    </tr>\n",
       "    <tr>\n",
       "      <th>292</th>\n",
       "      <td>Ellis</td>\n",
       "      <td>30</td>\n",
       "      <td>177</td>\n",
       "      <td>5310</td>\n",
       "    </tr>\n",
       "    <tr>\n",
       "      <th>293</th>\n",
       "      <td>Bob</td>\n",
       "      <td>5</td>\n",
       "      <td>54</td>\n",
       "      <td>270</td>\n",
       "    </tr>\n",
       "    <tr>\n",
       "      <th>294</th>\n",
       "      <td>Charlie</td>\n",
       "      <td>10</td>\n",
       "      <td>196</td>\n",
       "      <td>1960</td>\n",
       "    </tr>\n",
       "    <tr>\n",
       "      <th>295</th>\n",
       "      <td>Charlie</td>\n",
       "      <td>15</td>\n",
       "      <td>80</td>\n",
       "      <td>1200</td>\n",
       "    </tr>\n",
       "    <tr>\n",
       "      <th>296</th>\n",
       "      <td>Bob</td>\n",
       "      <td>15</td>\n",
       "      <td>172</td>\n",
       "      <td>2580</td>\n",
       "    </tr>\n",
       "  </tbody>\n",
       "</table>\n",
       "<p>297 rows × 4 columns</p>\n",
       "</div>"
      ],
      "text/plain": [
       "    Sale Rep  Cost Per  Units Sold  Total\n",
       "0    Deborah        30          55   1650\n",
       "1      Alice        25         113   2825\n",
       "2      Ellis        17          97   1649\n",
       "3      Ellis         5          83    415\n",
       "4      Alice        30          55   1650\n",
       "..       ...       ...         ...    ...\n",
       "292    Ellis        30         177   5310\n",
       "293      Bob         5          54    270\n",
       "294  Charlie        10         196   1960\n",
       "295  Charlie        15          80   1200\n",
       "296      Bob        15         172   2580\n",
       "\n",
       "[297 rows x 4 columns]"
      ]
     },
     "execution_count": 89,
     "metadata": {},
     "output_type": "execute_result"
    }
   ],
   "source": [
    "df1['Total'] = df1['Cost Per'] * df1['Units Sold']\n",
    "df1"
   ]
  },
  {
   "cell_type": "code",
   "execution_count": 90,
   "metadata": {},
   "outputs": [
    {
     "data": {
      "text/plain": [
       "<generator object dataframe_to_rows at 0x0000013997960BA0>"
      ]
     },
     "execution_count": 90,
     "metadata": {},
     "output_type": "execute_result"
    }
   ],
   "source": [
    "rows = dataframe_to_rows(df1, index=False)\n",
    "rows"
   ]
  },
  {
   "cell_type": "code",
   "execution_count": 91,
   "metadata": {},
   "outputs": [],
   "source": [
    "for r_idx, row in enumerate(rows, 1):\n",
    "    for c_idx, col in enumerate(row, 6):\n",
    "        ws.cell(row=r_idx, column=c_idx, value=col)"
   ]
  },
  {
   "cell_type": "code",
   "execution_count": 92,
   "metadata": {},
   "outputs": [],
   "source": [
    "wb.save('output/combined.xlsx')"
   ]
  },
  {
   "cell_type": "markdown",
   "metadata": {},
   "source": [
    " # Large Spreadsheets"
   ]
  },
  {
   "cell_type": "code",
   "execution_count": 93,
   "metadata": {},
   "outputs": [],
   "source": [
    "import numpy as np"
   ]
  },
  {
   "cell_type": "code",
   "execution_count": 94,
   "metadata": {},
   "outputs": [],
   "source": [
    "wb = load_workbook('data/Template.xlsx')\n",
    "ws = wb.active"
   ]
  },
  {
   "cell_type": "code",
   "execution_count": 95,
   "metadata": {},
   "outputs": [],
   "source": [
    "df = pd.read_csv(\n",
    "    'data/BostonCrimeDataset.csv',\n",
    "    encoding='utf-8',\n",
    "    dtype={\n",
    "        'INCIDENT_NUMBER': str,\n",
    "        'OFFENSE_CODE': str,\n",
    "        'OFFENSE_CODE_GROUP': str,\n",
    "        'OFFENSE_DESCRIPTION': str,\n",
    "        'DISTRICT': str,\n",
    "        'REPORTING_AREA': str,\n",
    "        'SHOOTING': str,\n",
    "        'YEAR': str,\n",
    "        'MONTH': str,\n",
    "        'DAY_OF_WEEK': str,\n",
    "        'HOUR': str\n",
    "    }\n",
    ")"
   ]
  },
  {
   "cell_type": "code",
   "execution_count": 96,
   "metadata": {},
   "outputs": [],
   "source": [
    "df1 = df[df['OFFENSE_CODE_GROUP'] == 'Counterfeiting']\n",
    "df1 = df1.replace(np.nan, 'N/A', regex=True)"
   ]
  },
  {
   "cell_type": "code",
   "execution_count": 97,
   "metadata": {},
   "outputs": [],
   "source": [
    "total_crimes = len(df.index)\n",
    "counterfeit = len(df1.index)\n",
    "\n",
    "perc_crimes = round((counterfeit / total_crimes) * 100, 2)"
   ]
  },
  {
   "cell_type": "code",
   "execution_count": 98,
   "metadata": {},
   "outputs": [],
   "source": [
    "ws['O8'].value = total_crimes\n",
    "ws['P8'].value = counterfeit\n",
    "ws['Q8'].value = perc_crimes"
   ]
  },
  {
   "cell_type": "code",
   "execution_count": 99,
   "metadata": {},
   "outputs": [],
   "source": [
    "df1['Count'] = 1\n",
    "\n",
    "df2 = df1.groupby(['DISTRICT', 'YEAR']).count()['Count'].unstack(level=0)\n",
    "df2.drop(columns='N/A', inplace=True)"
   ]
  },
  {
   "cell_type": "code",
   "execution_count": 100,
   "metadata": {},
   "outputs": [],
   "source": [
    "rows = dataframe_to_rows(df2)\n",
    "\n",
    "for r_idx, row in enumerate(rows, 8):\n",
    "    for c_idx, value in enumerate(row, 1):\n",
    "        ws.cell(row=r_idx, column=c_idx, value=value)"
   ]
  },
  {
   "cell_type": "code",
   "execution_count": 101,
   "metadata": {},
   "outputs": [],
   "source": [
    "wb.save('output/crime_report.xlsx')"
   ]
  },
  {
   "cell_type": "markdown",
   "metadata": {},
   "source": [
    "# Advanced Graphing"
   ]
  },
  {
   "cell_type": "code",
   "execution_count": 102,
   "metadata": {},
   "outputs": [],
   "source": [
    "from openpyxl.chart import BarChart, PieChart, Series, Reference"
   ]
  },
  {
   "cell_type": "code",
   "execution_count": 107,
   "metadata": {},
   "outputs": [],
   "source": [
    "wb = load_workbook('output/crime_report.xlsx')\n",
    "ws = wb.active"
   ]
  },
  {
   "cell_type": "code",
   "execution_count": 108,
   "metadata": {},
   "outputs": [],
   "source": [
    "chart = BarChart()\n",
    "data = Reference(ws, min_row=10, min_col=1, max_row=14, max_col=13)\n",
    "labels = Reference(ws, min_row=8, min_col=2, max_row=8, max_col=13)\n",
    "\n",
    "chart.add_data(data, from_rows=True, titles_from_data=True)\n",
    "chart.set_categories(labels)\n",
    "chart.title = 'Counterfeit Crimes by Distrinct'\n",
    "\n",
    "chart.height = 4.56\n",
    "chart.width = 20.3"
   ]
  },
  {
   "cell_type": "code",
   "execution_count": 109,
   "metadata": {},
   "outputs": [],
   "source": [
    "chart2 = PieChart()\n",
    "data = Reference(ws, min_col=15, max_col=16, min_row=8, max_row=8)\n",
    "labels = Reference(ws, min_col=15, max_col=16, min_row=7, max_row=7)\n",
    "\n",
    "chart2.add_data(data, from_rows=True)\n",
    "chart2.title = '%Counterfeit Crimes'\n",
    "\n",
    "chart2.height = 4.56\n",
    "chart2.width = 8.45"
   ]
  },
  {
   "cell_type": "code",
   "execution_count": 110,
   "metadata": {},
   "outputs": [],
   "source": [
    "ws.add_chart(chart, 'B15')\n",
    "ws.add_chart(chart2, 'N15')\n",
    "wb.save('output/lines.xlsx')"
   ]
  },
  {
   "cell_type": "code",
   "execution_count": null,
   "metadata": {},
   "outputs": [],
   "source": []
  }
 ],
 "metadata": {
  "kernelspec": {
   "display_name": "Python 3.10.4 ('venv': venv)",
   "language": "python",
   "name": "python3"
  },
  "language_info": {
   "codemirror_mode": {
    "name": "ipython",
    "version": 3
   },
   "file_extension": ".py",
   "mimetype": "text/x-python",
   "name": "python",
   "nbconvert_exporter": "python",
   "pygments_lexer": "ipython3",
   "version": "3.10.4"
  },
  "orig_nbformat": 4,
  "vscode": {
   "interpreter": {
    "hash": "e563610367d7c4e0f23b9d36232043dcaf0aca8e80623c74b5f96afb332d7c20"
   }
  }
 },
 "nbformat": 4,
 "nbformat_minor": 2
}
